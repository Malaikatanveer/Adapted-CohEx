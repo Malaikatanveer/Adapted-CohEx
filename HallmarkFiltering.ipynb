{
  "nbformat": 4,
  "nbformat_minor": 0,
  "metadata": {
    "colab": {
      "provenance": []
    },
    "kernelspec": {
      "name": "python3",
      "display_name": "Python 3"
    },
    "language_info": {
      "name": "python"
    }
  },
  "cells": [
    {
      "cell_type": "code",
      "execution_count": null,
      "metadata": {
        "colab": {
          "base_uri": "https://localhost:8080/"
        },
        "id": "ApK-0lnF-XcC",
        "outputId": "ec8d17f9-529b-466c-b47d-00217fe600fd"
      },
      "outputs": [
        {
          "output_type": "stream",
          "name": "stdout",
          "text": [
            "HALLMARK_G2M_CHECKPOINT: 200 genes\n",
            "HALLMARK_MYC_TARGETS_V1: 200 genes\n",
            "HALLMARK_MYC_TARGETS_V2: 58 genes\n",
            "HALLMARK_E2F_TARGETS: 200 genes\n",
            "HALLMARK_MTORC1_SIGNALING: 200 genes\n",
            "Rows before filtering: 57185\n",
            "Rows after filtering: 655\n",
            "Number of unique genes left after filtering: 655\n"
          ]
        }
      ],
      "source": [
        "import json\n",
        "import pandas as pd\n",
        "\n",
        "# load the JSON file with hallmark gene sets\n",
        "jsonPath = '/content/h.all.v2025.1.Hs.json'  # Adjust path as needed\n",
        "with open(jsonPath, 'r') as f:\n",
        "    hallmarkData = json.load(f)\n",
        "\n",
        "# define hallmark sets of interest\n",
        "targetHallmarks = {\n",
        "    \"HALLMARK_E2F_TARGETS\",\n",
        "    \"HALLMARK_G2M_CHECKPOINT\",\n",
        "    \"HALLMARK_MYC_TARGETS_V1\",\n",
        "    \"HALLMARK_MYC_TARGETS_V2\",\n",
        "    \"HALLMARK_MTORC1_SIGNALING\"\n",
        "}\n",
        "\n",
        "# collect all hallmark genes into a single set\n",
        "hallmarkGenes = set()\n",
        "for hallmarkName in targetHallmarks:\n",
        "    details = hallmarkData.get(hallmarkName, {})\n",
        "    genes = details.get('geneSymbols', [])\n",
        "    # remove leading single quote if any\n",
        "    cleanedGenes = [gene.lstrip(\"'\") for gene in genes]\n",
        "    hallmarkGenes.update(cleanedGenes)\n",
        "\n",
        "# print counts per hallmark\n",
        "for hallmarkName in targetHallmarks:\n",
        "    details = hallmarkData.get(hallmarkName, {})\n",
        "    genes = details.get('geneSymbols', [])\n",
        "    print(f\"{hallmarkName}: {len(genes)} genes\")\n",
        "\n",
        "# load Multivariate - CNA data\n",
        "multivariateCnaPath='/content/Multivariate - CNA.xlsx'   # Adjust path as needed\n",
        "multiCnaDf = pd.read_excel(multivariateCnaPath, engine='openpyxl')\n",
        "\n",
        "# remove leading single quote from 'Gene' column\n",
        "multiCnaDf['Gene'] = multiCnaDf['Gene'].astype(str).str.lstrip(\"'\")\n",
        "\n",
        "# filter rows where Gene is in hallmark gene list\n",
        "filteredMultiCnaDf = multiCnaDf[multiCnaDf['Gene'].isin(hallmarkGenes)]\n",
        "\n",
        "print(f\"Rows before filtering: {len(multiCnaDf)}\")\n",
        "print(f\"Rows after filtering: {len(filteredMultiCnaDf)}\")\n",
        "\n",
        "# number of unique genes left after filtering\n",
        "uniqueGenesLeft = filteredMultiCnaDf['Gene'].nunique()\n",
        "print(f\"Number of unique genes left after filtering: {uniqueGenesLeft}\")\n",
        "\n",
        "\n"
      ]
    },
    {
      "cell_type": "code",
      "source": [
        "# save filtered data\n",
        "outputPath = '/content/Multivariate_CNA_filtered_by_hallmark.csv'\n",
        "filteredMultiCnaDf.to_csv(outputPath, index=False)\n",
        "\n",
        "print(f\"Filtered data saved to: {outputPath}\")"
      ],
      "metadata": {
        "colab": {
          "base_uri": "https://localhost:8080/"
        },
        "id": "Ih9RAtYL_yqR",
        "outputId": "5fbe4f9b-13d3-46dd-baa0-593afad250ae"
      },
      "execution_count": null,
      "outputs": [
        {
          "output_type": "stream",
          "name": "stdout",
          "text": [
            "Filtered data saved to: /content/Multivariate_CNA_filtered_by_hallmark.csv\n"
          ]
        }
      ]
    },
    {
      "cell_type": "code",
      "source": [
        "from google.colab import files\n",
        "files.download(outputPath)\n"
      ],
      "metadata": {
        "colab": {
          "base_uri": "https://localhost:8080/",
          "height": 17
        },
        "id": "oR2P7xS2DtQO",
        "outputId": "e53ff7a8-1b74-4f15-cc4f-54306af79607"
      },
      "execution_count": null,
      "outputs": [
        {
          "output_type": "display_data",
          "data": {
            "text/plain": [
              "<IPython.core.display.Javascript object>"
            ],
            "application/javascript": [
              "\n",
              "    async function download(id, filename, size) {\n",
              "      if (!google.colab.kernel.accessAllowed) {\n",
              "        return;\n",
              "      }\n",
              "      const div = document.createElement('div');\n",
              "      const label = document.createElement('label');\n",
              "      label.textContent = `Downloading \"${filename}\": `;\n",
              "      div.appendChild(label);\n",
              "      const progress = document.createElement('progress');\n",
              "      progress.max = size;\n",
              "      div.appendChild(progress);\n",
              "      document.body.appendChild(div);\n",
              "\n",
              "      const buffers = [];\n",
              "      let downloaded = 0;\n",
              "\n",
              "      const channel = await google.colab.kernel.comms.open(id);\n",
              "      // Send a message to notify the kernel that we're ready.\n",
              "      channel.send({})\n",
              "\n",
              "      for await (const message of channel.messages) {\n",
              "        // Send a message to notify the kernel that we're ready.\n",
              "        channel.send({})\n",
              "        if (message.buffers) {\n",
              "          for (const buffer of message.buffers) {\n",
              "            buffers.push(buffer);\n",
              "            downloaded += buffer.byteLength;\n",
              "            progress.value = downloaded;\n",
              "          }\n",
              "        }\n",
              "      }\n",
              "      const blob = new Blob(buffers, {type: 'application/binary'});\n",
              "      const a = document.createElement('a');\n",
              "      a.href = window.URL.createObjectURL(blob);\n",
              "      a.download = filename;\n",
              "      div.appendChild(a);\n",
              "      a.click();\n",
              "      div.remove();\n",
              "    }\n",
              "  "
            ]
          },
          "metadata": {}
        },
        {
          "output_type": "display_data",
          "data": {
            "text/plain": [
              "<IPython.core.display.Javascript object>"
            ],
            "application/javascript": [
              "download(\"download_e4e1da75-b596-422d-b0b3-63660fd7d88f\", \"Multivariate_CNA_filtered_by_hallmark.csv\", 404730)"
            ]
          },
          "metadata": {}
        }
      ]
    },
    {
      "cell_type": "code",
      "source": [],
      "metadata": {
        "id": "4g-VASLBRhSy"
      },
      "execution_count": null,
      "outputs": []
    }
  ]
}